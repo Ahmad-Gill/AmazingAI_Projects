{
 "cells": [
  {
   "cell_type": "code",
   "execution_count": 4,
   "metadata": {},
   "outputs": [],
   "source": [
    "import smtplib\n",
    "from email.mime.multipart import MIMEMultipart\n",
    "from email.mime.text import MIMEText\n",
    "from email.mime.image import MIMEImage\n",
    "from email.mime.base import MIMEBase\n",
    "import cv2\n",
    "import time\n"
   ]
  },
  {
   "cell_type": "code",
   "execution_count": 18,
   "metadata": {},
   "outputs": [
    {
     "name": "stdout",
     "output_type": "stream",
     "text": [
      "Camera initialized successfully. Press 'q' to exit.\n",
      "Face detected! Picture saved as detected_face_1724169573.jpg\n",
      "Email sent successfully.\n",
      "Face detected! Picture saved as detected_face_1724169578.jpg\n",
      "Email sent successfully.\n",
      "Face detected! Picture saved as detected_face_1724169583.jpg\n",
      "Email sent successfully.\n",
      "Face detected! Picture saved as detected_face_1724169588.jpg\n",
      "Email sent successfully.\n",
      "Face detected! Picture saved as detected_face_1724169593.jpg\n",
      "Email sent successfully.\n",
      "Face detected! Picture saved as detected_face_1724169598.jpg\n",
      "Email sent successfully.\n",
      "Face detected! Picture saved as detected_face_1724169604.jpg\n",
      "Email sent successfully.\n"
     ]
    }
   ],
   "source": [
    "def send_email(subject, body, to_email, image_path=None):\n",
    "    from_email = \"aipicmailmanagement@gmail.com\"\n",
    "    password = \"amuq yvmi bfjq zvyy\"  \n",
    "    msg = MIMEMultipart()\n",
    "    msg['From'] = from_email\n",
    "    msg['To'] = to_email\n",
    "    msg['Subject'] = subject\n",
    "    msg.attach(MIMEText(body, 'plain'))\n",
    "    \n",
    "    if image_path:\n",
    "        try:\n",
    "            with open(image_path, 'rb') as img:\n",
    "                img_data = img.read()\n",
    "                image = MIMEImage(img_data, name=image_path)\n",
    "                msg.attach(image)\n",
    "        except FileNotFoundError:\n",
    "            print(f\"Error: The file {image_path} was not found.\")\n",
    "            return\n",
    "\n",
    "    try:\n",
    "        server = smtplib.SMTP('smtp.gmail.com', 587)\n",
    "        server.starttls()\n",
    "        server.login(from_email, password)\n",
    "        text = msg.as_string()\n",
    "        server.sendmail(from_email, to_email, text)\n",
    "        server.quit()\n",
    "        print(\"Email sent successfully.\")\n",
    "    except Exception as e:\n",
    "        print(f\"Error: {e}\")\n",
    "camera = cv2.VideoCapture(0)\n",
    "if not camera.isOpened():\n",
    "    print(\"Error: Could not open camera.\")\n",
    "    exit()\n",
    "\n",
    "print(\"Camera initialized successfully. Press 'q' to exit.\")\n",
    "last_save_time = time.time()\n",
    "save_interval = 5\n",
    "while True:\n",
    "\n",
    "    ret, frame = camera.read()\n",
    "    if not ret:\n",
    "        print(\"Error: Failed to capture frame.\")\n",
    "        break\n",
    "    gray = cv2.cvtColor(frame, cv2.COLOR_BGR2GRAY)\n",
    "    face_cascade = cv2.CascadeClassifier(cv2.data.haarcascades + 'haarcascade_frontalface_default.xml')\n",
    "    faces = face_cascade.detectMultiScale(gray, scaleFactor=1.1, minNeighbors=5, minSize=(30, 30))\n",
    "\n",
    "    current_time = time.time()\n",
    "\n",
    "    if len(faces) > 0:\n",
    "        if current_time - last_save_time > save_interval:\n",
    "            filename = f\"detected_face_{int(current_time)}.jpg\"\n",
    "            cv2.imwrite(filename, frame)\n",
    "            print(f\"Face detected! Picture saved as {filename}\")\n",
    "            send_email(\n",
    "                subject=\"Face Detected\",\n",
    "                body=\"A face was detected and captured.\",\n",
    "                to_email=\"m.ahmadgill01@gmail.com\",\n",
    "                image_path=filename\n",
    "            )\n",
    "\n",
    "            last_save_time = current_time\n",
    "    cv2.imshow(\"Camera Feed\", frame)\n",
    "    if cv2.waitKey(1) & 0xFF == ord('q'):\n",
    "        break\n",
    "camera.release()\n",
    "cv2.destroyAllWindows()\n"
   ]
  }
 ],
 "metadata": {
  "kernelspec": {
   "display_name": "Python 3",
   "language": "python",
   "name": "python3"
  },
  "language_info": {
   "codemirror_mode": {
    "name": "ipython",
    "version": 3
   },
   "file_extension": ".py",
   "mimetype": "text/x-python",
   "name": "python",
   "nbconvert_exporter": "python",
   "pygments_lexer": "ipython3",
   "version": "3.12.1"
  }
 },
 "nbformat": 4,
 "nbformat_minor": 2
}
